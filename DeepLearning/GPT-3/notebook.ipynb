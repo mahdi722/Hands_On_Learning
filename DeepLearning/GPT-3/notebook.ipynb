{
 "cells": [
  {
   "cell_type": "code",
   "execution_count": 4,
   "id": "2d86dd61",
   "metadata": {},
   "outputs": [
    {
     "name": "stdout",
     "output_type": "stream",
     "text": [
      "tensor([[[-0.8526,  2.6774, -4.5365,  1.3438],\n",
      "         [ 4.1076, -1.6272,  4.5535, -3.4685],\n",
      "         [-3.4017,  2.5201,  0.1758, -1.0497],\n",
      "         [-0.8223,  1.9026,  2.0165,  0.2983],\n",
      "         [-0.8223,  1.9026,  2.0165,  0.2983],\n",
      "         [ 4.1076, -1.6272,  4.5535, -3.4685]],\n",
      "\n",
      "        [[ 1.2118, -1.2430, -3.4821, -1.8208],\n",
      "         [ 1.2118, -1.2430, -3.4821, -1.8208],\n",
      "         [-0.4011, -3.2657,  2.1478,  0.3952],\n",
      "         [ 1.2960,  1.5820,  2.0547,  1.2281],\n",
      "         [ 4.1076, -1.6272,  4.5535, -3.4685],\n",
      "         [-0.8526,  2.6774, -4.5365,  1.3438]],\n",
      "\n",
      "        [[-0.4011, -3.2657,  2.1478,  0.3952],\n",
      "         [ 1.2960,  1.5820,  2.0547,  1.2281],\n",
      "         [-3.4017,  2.5201,  0.1758, -1.0497],\n",
      "         [-1.0079,  0.8239, -1.4573, -5.4936],\n",
      "         [-0.4011, -3.2657,  2.1478,  0.3952],\n",
      "         [ 1.2960,  1.5820,  2.0547,  1.2281]]], grad_fn=<MulBackward0>)\n",
      "tensor([[ 0.0000,  1.0000,  0.0000,  1.0000],\n",
      "        [ 0.8415,  0.5403,  0.0100,  0.9999],\n",
      "        [ 0.9093, -0.4161,  0.0200,  0.9998],\n",
      "        [ 0.1411, -0.9900,  0.0300,  0.9996],\n",
      "        [-0.7568, -0.6536,  0.0400,  0.9992],\n",
      "        [-0.9589,  0.2837,  0.0500,  0.9988]])\n",
      "tensor([[ 0.0000,  1.0000,  0.0000,  1.0000],\n",
      "        [ 0.8415,  0.5403,  0.0100,  0.9999],\n",
      "        [ 0.9093, -0.4161,  0.0200,  0.9998],\n",
      "        [ 0.1411, -0.9900,  0.0300,  0.9996],\n",
      "        [-0.7568, -0.6536,  0.0400,  0.9992],\n",
      "        [-0.9589,  0.2837,  0.0500,  0.9988]])\n",
      "torch.Size([3, 6, 4])\n",
      "torch.Size([3, 6])\n",
      "torch.Size([3, 6, 4])\n"
     ]
    }
   ],
   "source": [
    "from positional_encoding.positionalencoding import EmbeddingsWithPosition\n",
    "\n",
    "import torch\n",
    "\n",
    "vocab_size, d_model, max_len = 10, 4, 6\n",
    "batch_size, seq_len         = 3, 6\n",
    "\n",
    "model  = EmbeddingsWithPosition(vocab_size, d_model, max_len)\n",
    "tokens = torch.randint(0, vocab_size, (batch_size, seq_len), dtype=torch.long)\n",
    "\n",
    "output = model(tokens)\n",
    "print(tokens.shape)   # torch.Size([3, 8])\n",
    "print(output.shape)   # torch.Size([3, 8, 16])"
   ]
  },
  {
   "cell_type": "code",
   "execution_count": null,
   "id": "fcbe02c8",
   "metadata": {},
   "outputs": [
    {
     "name": "stderr",
     "output_type": "stream",
     "text": [
      "/home/mahdi/code/Hands_On_Learning/venv/lib/python3.11/site-packages/torch/_subclasses/functional_tensor.py:276: UserWarning: Failed to initialize NumPy: No module named 'numpy' (Triggered internally at /pytorch/torch/csrc/utils/tensor_numpy.cpp:81.)\n",
      "  cpu = _conversion_method_template(device=torch.device(\"cpu\"))\n"
     ]
    },
    {
     "name": "stdout",
     "output_type": "stream",
     "text": [
      "Output shape (no mask): torch.Size([2, 4, 8])\n",
      "Output shape (with mask): torch.Size([2, 4, 8])\n",
      "Sum absolute diff between masked and unmasked outputs: 6.725967884063721\n"
     ]
    },
    {
     "ename": "AttributeError",
     "evalue": "'MultiHeadAttention' object has no attribute 'query_weights'",
     "output_type": "error",
     "traceback": [
      "\u001b[31m---------------------------------------------------------------------------\u001b[39m",
      "\u001b[31mAttributeError\u001b[39m                            Traceback (most recent call last)",
      "\u001b[36mCell\u001b[39m\u001b[36m \u001b[39m\u001b[32mIn[1]\u001b[39m\u001b[32m, line 27\u001b[39m\n\u001b[32m     25\u001b[39m out_sum = out_masked.sum()\n\u001b[32m     26\u001b[39m out_sum.backward()\n\u001b[32m---> \u001b[39m\u001b[32m27\u001b[39m \u001b[38;5;28mprint\u001b[39m(\u001b[33m\"\u001b[39m\u001b[33mGradient on query_weights weight:\u001b[39m\u001b[33m\"\u001b[39m, \u001b[43mmha\u001b[49m\u001b[43m.\u001b[49m\u001b[43mquery_weights\u001b[49m.weight.grad.norm().item())\n",
      "\u001b[36mFile \u001b[39m\u001b[32m~/code/Hands_On_Learning/venv/lib/python3.11/site-packages/torch/nn/modules/module.py:1940\u001b[39m, in \u001b[36mModule.__getattr__\u001b[39m\u001b[34m(self, name)\u001b[39m\n\u001b[32m   1938\u001b[39m     \u001b[38;5;28;01mif\u001b[39;00m name \u001b[38;5;129;01min\u001b[39;00m modules:\n\u001b[32m   1939\u001b[39m         \u001b[38;5;28;01mreturn\u001b[39;00m modules[name]\n\u001b[32m-> \u001b[39m\u001b[32m1940\u001b[39m \u001b[38;5;28;01mraise\u001b[39;00m \u001b[38;5;167;01mAttributeError\u001b[39;00m(\n\u001b[32m   1941\u001b[39m     \u001b[33mf\u001b[39m\u001b[33m\"\u001b[39m\u001b[33m'\u001b[39m\u001b[38;5;132;01m{\u001b[39;00m\u001b[38;5;28mtype\u001b[39m(\u001b[38;5;28mself\u001b[39m).\u001b[34m__name__\u001b[39m\u001b[38;5;132;01m}\u001b[39;00m\u001b[33m'\u001b[39m\u001b[33m object has no attribute \u001b[39m\u001b[33m'\u001b[39m\u001b[38;5;132;01m{\u001b[39;00mname\u001b[38;5;132;01m}\u001b[39;00m\u001b[33m'\u001b[39m\u001b[33m\"\u001b[39m\n\u001b[32m   1942\u001b[39m )\n",
      "\u001b[31mAttributeError\u001b[39m: 'MultiHeadAttention' object has no attribute 'query_weights'"
     ]
    }
   ],
   "source": [
    "from Attention.NormalAttention import MultiHeadAttention\n",
    "import torch\n",
    "\n",
    "# Test cases\n",
    "batch_size, seq_len, d_model, num_heads = 2, 4, 8, 2\n",
    "mha = MultiHeadAttention(d_model, num_heads)\n",
    "\n",
    "# 1. Basic shape test (no mask)\n",
    "x = torch.randn(batch_size, seq_len, d_model)\n",
    "out = mha(x, x, x)\n",
    "print(\"Output shape (no mask):\", out.shape)  # Expect (2, 4, 8)\n",
    "\n",
    "# 2. Consistency test: mask out future tokens with a causal mask\n",
    "mask = torch.tril(torch.ones(seq_len, seq_len)).bool() \\\n",
    "       .unsqueeze(0).unsqueeze(0) \\\n",
    "       .expand(batch_size, num_heads, seq_len, seq_len)\n",
    "out_masked = mha(x, x, x, mask)\n",
    "print(\"Output shape (with mask):\", out_masked.shape)  # Expect (2, 4, 8)\n",
    "\n",
    "# 3. Compare unmasked vs masked (should differ)\n",
    "difference = torch.abs(out - out_masked).sum().item()\n",
    "print(\"Sum absolute diff between masked and unmasked outputs:\", difference)\n",
    "\n",
    "# 4. Gradient check\n",
    "out_sum = out_masked.sum()\n",
    "out_sum.backward()\n",
    "print(\"Gradient on query_weights weight:\", mha.query_weights_multiplication.weight.grad.norm().item())"
   ]
  },
  {
   "cell_type": "code",
   "execution_count": null,
   "id": "feec94c8",
   "metadata": {},
   "outputs": [],
   "source": []
  }
 ],
 "metadata": {
  "kernelspec": {
   "display_name": "venv",
   "language": "python",
   "name": "python3"
  },
  "language_info": {
   "codemirror_mode": {
    "name": "ipython",
    "version": 3
   },
   "file_extension": ".py",
   "mimetype": "text/x-python",
   "name": "python",
   "nbconvert_exporter": "python",
   "pygments_lexer": "ipython3",
   "version": "3.11.12"
  }
 },
 "nbformat": 4,
 "nbformat_minor": 5
}
